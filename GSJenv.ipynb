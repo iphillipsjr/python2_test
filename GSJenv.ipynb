{
 "cells": [
  {
   "cell_type": "code",
   "execution_count": 2,
   "id": "fae4d60f-3d8b-4e7f-980b-c97bf56ba7ae",
   "metadata": {},
   "outputs": [
    {
     "name": "stdout",
     "output_type": "stream",
     "text": [
      "Hello World!\n"
     ]
    }
   ],
   "source": [
    "def Hello_World():\n",
    "    print(\"Hello World!\")\n",
    "    return\n",
    "Hello_World()"
   ]
  },
  {
   "cell_type": "markdown",
   "id": "55d7a462-78a4-4da4-bbb5-5345aaa80ebe",
   "metadata": {},
   "source": [
    "#Hello World Demo\n",
    "Write a hello world function that takes no arguments and simply prints out “Hello, World!” After the function definition, call the function. Run the cell"
   ]
  }
 ],
 "metadata": {
  "kernelspec": {
   "display_name": "myenv",
   "language": "python",
   "name": "myenv"
  },
  "language_info": {
   "codemirror_mode": {
    "name": "ipython",
    "version": 3
   },
   "file_extension": ".py",
   "mimetype": "text/x-python",
   "name": "python",
   "nbconvert_exporter": "python",
   "pygments_lexer": "ipython3",
   "version": "3.8.8"
  }
 },
 "nbformat": 4,
 "nbformat_minor": 5
}
